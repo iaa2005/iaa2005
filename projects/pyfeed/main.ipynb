{
 "cells": [
  {
   "cell_type": "code",
   "execution_count": null,
   "metadata": {
    "tags": []
   },
   "outputs": [],
   "source": [
    "import feedparser\n",
    "from dateutil import parser\n",
    "from pprint import pprint\n",
    "\n",
    "news = feedparser.parse(\"https://news.google.com/rss/search?cf=all&hl=en-US&pz=1&q=astronomy&gl=US&ceid=US:en\")\n",
    "# pprint(parser.parse(news.entries[0][\"published\"]).tzinfo)\n",
    "# pprint(len(news.entries))\n"
   ]
  },
  {
   "cell_type": "code",
   "execution_count": null,
   "metadata": {},
   "outputs": [],
   "source": [
    "import feedparser\n",
    "import pprint\n",
    "from bs4 import BeautifulSoup\n",
    "\n",
    "class Block:\n",
    "    def __init__(self, link, title, author, date, summary, content):\n",
    "        self.link = link\n",
    "        self.title = title\n",
    "        self.author = author\n",
    "        self.date = date\n",
    "        self.summary = summary\n",
    "        self.content = content\n",
    "\n",
    "    def add_content(self, content):\n",
    "        self.content = content\n",
    "\n",
    "    def all_data_to_text(self):\n",
    "        soup = BeautifulSoup(self.content)\n",
    "        for script in soup([\"script\", \"style\"]):\n",
    "            script.decompose();\n",
    "\n",
    "        strips = list(soup.stripped_strings)\n",
    "        self.content = \" \".join(strips)\n",
    "\n",
    "        soup = BeautifulSoup(self.summary)\n",
    "        for script in soup([\"script\", \"style\"]):\n",
    "            script.decompose();\n",
    "\n",
    "        strips = list(soup.stripped_strings)\n",
    "        self.summary = \" \".join(strips)\n",
    "\n",
    "    def print_block(self):\n",
    "        print(self.link)\n",
    "        print(self.title)\n",
    "        print(self.date)\n",
    "        print(self.author)\n",
    "        print(self.summary)\n",
    "        print(self.content)\n"
   ]
  },
  {
   "cell_type": "code",
   "execution_count": null,
   "metadata": {},
   "outputs": [],
   "source": [
    "text = \"\"\n",
    "\n",
    "text2 = \"\"\n",
    "\n",
    "for i in range(1, len(text.split(\"\\n\")), 2):\n",
    "    text2 += text.split(\"\\n\")[i].split(\" \")[3][6:-1] + \"\\n\"\n",
    "\n",
    "print(text2)\n",
    "\n"
   ]
  },
  {
   "cell_type": "code",
   "execution_count": null,
   "metadata": {
    "tags": []
   },
   "outputs": [],
   "source": [
    "from GoogleNews import GoogleNews\n",
    "from pprint import pprint\n",
    "from IPython.display import display, HTML\n",
    "\n",
    "googlenews = GoogleNews()\n",
    "googlenews.set_lang('en')\n",
    "googlenews.set_encode('utf-8')\n",
    "googlenews.set_period('1d')\n",
    "\n",
    "googlenews.get_news('Cryptocurrency')\n",
    "\n",
    "from tqdm import tqdm\n",
    "import time\n",
    "\n",
    "topics = []\n",
    "\n",
    "results = googlenews.results()\n",
    "\n",
    "for index in tqdm(range(len(results))):\n",
    "    topics.append([ HTML('<a href=\"https://' + results[index][\"link\"] + '\">' + results[index][\"site\"] + '</a>'), results[index][\"title\"], results[index][\"date\"] ])\n",
    "\n",
    "for topic in topics:\n",
    "    print(display(topic[0]))\n",
    "    print(topic[1])\n",
    "    print(topic[2])\n"
   ]
  },
  {
   "cell_type": "code",
   "execution_count": null,
   "metadata": {},
   "outputs": [],
   "source": []
  }
 ],
 "metadata": {
  "interpreter": {
   "hash": "31f2aee4e71d21fbe5cf8b01ff0e069b9275f58929596ceb00d14d90e3e16cd6"
  },
  "kernelspec": {
   "display_name": "Python 3.8.2 64-bit",
   "name": "python3"
  },
  "language_info": {
   "codemirror_mode": {
    "name": "ipython",
    "version": 3
   },
   "file_extension": ".py",
   "mimetype": "text/x-python",
   "name": "python",
   "nbconvert_exporter": "python",
   "pygments_lexer": "ipython3",
   "version": "3.8.2"
  },
  "orig_nbformat": 4
 },
 "nbformat": 4,
 "nbformat_minor": 2
}